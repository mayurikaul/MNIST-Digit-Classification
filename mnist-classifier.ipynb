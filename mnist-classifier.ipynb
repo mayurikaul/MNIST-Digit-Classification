{
 "cells": [
  {
   "cell_type": "markdown",
   "id": "0119ec44",
   "metadata": {
    "papermill": {
     "duration": 0.006239,
     "end_time": "2024-02-19T16:41:50.637169",
     "exception": false,
     "start_time": "2024-02-19T16:41:50.630930",
     "status": "completed"
    },
    "tags": []
   },
   "source": [
    "MNIST Classifier"
   ]
  },
  {
   "cell_type": "code",
   "execution_count": 1,
   "id": "f5db29f6",
   "metadata": {
    "execution": {
     "iopub.execute_input": "2024-02-19T16:41:50.650203Z",
     "iopub.status.busy": "2024-02-19T16:41:50.649890Z",
     "iopub.status.idle": "2024-02-19T16:42:04.056508Z",
     "shell.execute_reply": "2024-02-19T16:42:04.055316Z"
    },
    "papermill": {
     "duration": 13.415567,
     "end_time": "2024-02-19T16:42:04.058742",
     "exception": false,
     "start_time": "2024-02-19T16:41:50.643175",
     "status": "completed"
    },
    "tags": []
   },
   "outputs": [
    {
     "name": "stdout",
     "output_type": "stream",
     "text": [
      "Collecting emnist\r\n",
      "  Downloading emnist-0.0-py3-none-any.whl (7.3 kB)\r\n",
      "Requirement already satisfied: numpy in /opt/conda/lib/python3.10/site-packages (from emnist) (1.24.4)\r\n",
      "Requirement already satisfied: requests in /opt/conda/lib/python3.10/site-packages (from emnist) (2.31.0)\r\n",
      "Requirement already satisfied: tqdm in /opt/conda/lib/python3.10/site-packages (from emnist) (4.66.1)\r\n",
      "Requirement already satisfied: charset-normalizer<4,>=2 in /opt/conda/lib/python3.10/site-packages (from requests->emnist) (3.3.2)\r\n",
      "Requirement already satisfied: idna<4,>=2.5 in /opt/conda/lib/python3.10/site-packages (from requests->emnist) (3.6)\r\n",
      "Requirement already satisfied: urllib3<3,>=1.21.1 in /opt/conda/lib/python3.10/site-packages (from requests->emnist) (1.26.18)\r\n",
      "Requirement already satisfied: certifi>=2017.4.17 in /opt/conda/lib/python3.10/site-packages (from requests->emnist) (2023.11.17)\r\n",
      "Installing collected packages: emnist\r\n",
      "Successfully installed emnist-0.0\r\n",
      "Note: you may need to restart the kernel to use updated packages.\n"
     ]
    }
   ],
   "source": [
    "pip install emnist"
   ]
  },
  {
   "cell_type": "code",
   "execution_count": 2,
   "id": "7cd1cf0a",
   "metadata": {
    "execution": {
     "iopub.execute_input": "2024-02-19T16:42:04.073074Z",
     "iopub.status.busy": "2024-02-19T16:42:04.072774Z",
     "iopub.status.idle": "2024-02-19T16:42:19.559314Z",
     "shell.execute_reply": "2024-02-19T16:42:19.558524Z"
    },
    "papermill": {
     "duration": 15.496266,
     "end_time": "2024-02-19T16:42:19.561560",
     "exception": false,
     "start_time": "2024-02-19T16:42:04.065294",
     "status": "completed"
    },
    "tags": []
   },
   "outputs": [
    {
     "name": "stderr",
     "output_type": "stream",
     "text": [
      "2024-02-19 16:42:06.297151: E external/local_xla/xla/stream_executor/cuda/cuda_dnn.cc:9261] Unable to register cuDNN factory: Attempting to register factory for plugin cuDNN when one has already been registered\n",
      "2024-02-19 16:42:06.297268: E external/local_xla/xla/stream_executor/cuda/cuda_fft.cc:607] Unable to register cuFFT factory: Attempting to register factory for plugin cuFFT when one has already been registered\n",
      "2024-02-19 16:42:06.462458: E external/local_xla/xla/stream_executor/cuda/cuda_blas.cc:1515] Unable to register cuBLAS factory: Attempting to register factory for plugin cuBLAS when one has already been registered\n"
     ]
    }
   ],
   "source": [
    "#Imports\n",
    "import tensorflow as tf\n",
    "import numpy as np\n",
    "from tensorflow.keras.datasets import mnist\n",
    "from emnist import extract_training_samples\n",
    "from emnist import extract_test_samples\n",
    "from tensorflow.keras.utils import to_categorical\n",
    "from tensorflow.keras.models import Sequential\n",
    "from tensorflow.keras.layers import (\n",
    "    Conv2D, \n",
    "    MaxPool2D, \n",
    "    Dense, \n",
    "    Flatten, \n",
    "    Dropout,\n",
    "    BatchNormalization,\n",
    "    Input\n",
    ")   \n",
    "from tensorflow.keras.utils import plot_model\n",
    "from tensorflow.keras.models import Model\n",
    "import matplotlib.pyplot as plt\n",
    "from sklearn.model_selection import KFold\n",
    "from tensorflow.keras.losses import sparse_categorical_crossentropy"
   ]
  },
  {
   "cell_type": "markdown",
   "id": "6546be4b",
   "metadata": {
    "papermill": {
     "duration": 0.006023,
     "end_time": "2024-02-19T16:42:19.574180",
     "exception": false,
     "start_time": "2024-02-19T16:42:19.568157",
     "status": "completed"
    },
    "tags": []
   },
   "source": [
    "Loading the Data"
   ]
  },
  {
   "cell_type": "code",
   "execution_count": 3,
   "id": "17fbb326",
   "metadata": {
    "execution": {
     "iopub.execute_input": "2024-02-19T16:42:19.588265Z",
     "iopub.status.busy": "2024-02-19T16:42:19.587485Z",
     "iopub.status.idle": "2024-02-19T16:42:20.101284Z",
     "shell.execute_reply": "2024-02-19T16:42:20.100479Z"
    },
    "papermill": {
     "duration": 0.523302,
     "end_time": "2024-02-19T16:42:20.103582",
     "exception": false,
     "start_time": "2024-02-19T16:42:19.580280",
     "status": "completed"
    },
    "tags": []
   },
   "outputs": [
    {
     "name": "stdout",
     "output_type": "stream",
     "text": [
      "Downloading data from https://storage.googleapis.com/tensorflow/tf-keras-datasets/mnist.npz\n",
      "11490434/11490434 [==============================] - 0s 0us/step\n"
     ]
    }
   ],
   "source": [
    "#Loading the MNIST data\n",
    "(x_train, labels_train), (x_test, labels_test) = mnist.load_data()\n",
    "\n",
    "x_train = x_train.astype('float32')\n",
    "x_test = x_test.astype('float32')\n",
    "x_train /= 255\n",
    "x_test /= 255\n",
    "\n",
    "y_train = to_categorical(labels_train, 10)\n",
    "y_test = to_categorical(labels_test, 10)\n",
    "\n",
    "\n",
    "#CNN\n",
    "x_train2 = x_train.reshape(x_train.shape[0], 28,28,1)\n",
    "x_test2 = x_test.reshape(x_test.shape[0],28,28,1)\n"
   ]
  },
  {
   "cell_type": "markdown",
   "id": "e9c3e903",
   "metadata": {
    "papermill": {
     "duration": 0.006493,
     "end_time": "2024-02-19T16:42:20.116912",
     "exception": false,
     "start_time": "2024-02-19T16:42:20.110419",
     "status": "completed"
    },
    "tags": []
   },
   "source": [
    "EMNIST Dataset"
   ]
  },
  {
   "cell_type": "code",
   "execution_count": 4,
   "id": "1744179c",
   "metadata": {
    "execution": {
     "iopub.execute_input": "2024-02-19T16:42:20.131263Z",
     "iopub.status.busy": "2024-02-19T16:42:20.130931Z",
     "iopub.status.idle": "2024-02-19T16:42:30.259269Z",
     "shell.execute_reply": "2024-02-19T16:42:30.258442Z"
    },
    "papermill": {
     "duration": 10.138104,
     "end_time": "2024-02-19T16:42:30.261553",
     "exception": false,
     "start_time": "2024-02-19T16:42:20.123449",
     "status": "completed"
    },
    "tags": []
   },
   "outputs": [
    {
     "name": "stderr",
     "output_type": "stream",
     "text": [
      "Downloading emnist.zip: 536MB [00:07, 73.2MB/s]\n"
     ]
    }
   ],
   "source": [
    "em_train, em_train_labels = extract_training_samples('digits')\n",
    "em_test, em_test_labels = extract_test_samples('digits')\n",
    "\n",
    "em_train = em_train.astype('float32')\n",
    "em_train /= 255\n",
    "em_test = em_test.astype('float32')\n",
    "em_test /= 255\n",
    "\n",
    "em_train_labels1 = to_categorical(em_train_labels,10)\n",
    "\n",
    "#CNN\n",
    "em_train2 = em_train.reshape(em_train.shape[0],28,28,1)\n",
    "em_test2 = em_test.reshape(em_test.shape[0],28,28,1)\n"
   ]
  },
  {
   "cell_type": "markdown",
   "id": "081f6472",
   "metadata": {
    "papermill": {
     "duration": 0.01417,
     "end_time": "2024-02-19T16:42:30.289489",
     "exception": false,
     "start_time": "2024-02-19T16:42:30.275319",
     "status": "completed"
    },
    "tags": []
   },
   "source": [
    "Merged Dataset"
   ]
  },
  {
   "cell_type": "code",
   "execution_count": 5,
   "id": "6bd9b548",
   "metadata": {
    "execution": {
     "iopub.execute_input": "2024-02-19T16:42:30.316070Z",
     "iopub.status.busy": "2024-02-19T16:42:30.315741Z",
     "iopub.status.idle": "2024-02-19T16:42:30.783690Z",
     "shell.execute_reply": "2024-02-19T16:42:30.782887Z"
    },
    "papermill": {
     "duration": 0.483997,
     "end_time": "2024-02-19T16:42:30.786056",
     "exception": false,
     "start_time": "2024-02-19T16:42:30.302059",
     "status": "completed"
    },
    "tags": []
   },
   "outputs": [],
   "source": [
    "input_train = np.concatenate((x_train2, em_train2), axis = 0)\n",
    "target_train = np.concatenate((y_train,em_train_labels1), axis = 0)\n",
    "\n",
    "\n",
    "input_test = np.concatenate((x_test2, em_test2), axis = 0)\n",
    "target_test = np.concatenate((labels_test,em_test_labels), axis = 0)\n"
   ]
  },
  {
   "cell_type": "markdown",
   "id": "81eca14e",
   "metadata": {
    "papermill": {
     "duration": 0.012395,
     "end_time": "2024-02-19T16:42:30.811260",
     "exception": false,
     "start_time": "2024-02-19T16:42:30.798865",
     "status": "completed"
    },
    "tags": []
   },
   "source": [
    "Data Augmentation"
   ]
  },
  {
   "cell_type": "code",
   "execution_count": 6,
   "id": "76b8fdec",
   "metadata": {
    "execution": {
     "iopub.execute_input": "2024-02-19T16:42:30.838498Z",
     "iopub.status.busy": "2024-02-19T16:42:30.837791Z",
     "iopub.status.idle": "2024-02-19T16:42:31.692821Z",
     "shell.execute_reply": "2024-02-19T16:42:31.691677Z"
    },
    "papermill": {
     "duration": 0.871107,
     "end_time": "2024-02-19T16:42:31.695110",
     "exception": false,
     "start_time": "2024-02-19T16:42:30.824003",
     "status": "completed"
    },
    "tags": []
   },
   "outputs": [],
   "source": [
    "data_aug = tf.keras.Sequential([\n",
    "    tf.keras.layers.experimental.preprocessing.RandomRotation(0.08),\n",
    "    tf.keras.layers.experimental.preprocessing.RandomTranslation(0.1,0.1),\n",
    "    tf.keras.layers.experimental.preprocessing.RandomZoom(0.1)\n",
    "    ])"
   ]
  },
  {
   "cell_type": "markdown",
   "id": "0a4279dc",
   "metadata": {
    "papermill": {
     "duration": 0.012444,
     "end_time": "2024-02-19T16:42:31.720564",
     "exception": false,
     "start_time": "2024-02-19T16:42:31.708120",
     "status": "completed"
    },
    "tags": []
   },
   "source": [
    "Model using other method"
   ]
  },
  {
   "cell_type": "code",
   "execution_count": 7,
   "id": "30dcb977",
   "metadata": {
    "execution": {
     "iopub.execute_input": "2024-02-19T16:42:31.746719Z",
     "iopub.status.busy": "2024-02-19T16:42:31.746391Z",
     "iopub.status.idle": "2024-02-19T16:42:32.460602Z",
     "shell.execute_reply": "2024-02-19T16:42:32.459635Z"
    },
    "papermill": {
     "duration": 0.730085,
     "end_time": "2024-02-19T16:42:32.463005",
     "exception": false,
     "start_time": "2024-02-19T16:42:31.732920",
     "status": "completed"
    },
    "tags": []
   },
   "outputs": [],
   "source": [
    "inputs = Input(shape=x_train2.shape[1:])\n",
    "x = data_aug(inputs)\n",
    "x = Conv2D(filters=64, kernel_size=(5,5), activation='relu')(x)\n",
    "x = MaxPool2D(pool_size=(2, 2))(x)\n",
    "x = Conv2D(filters=64, kernel_size=(5,5), activation='relu')(x)\n",
    "x = MaxPool2D(pool_size=(2, 2))(x)\n",
    "x = BatchNormalization()(x)\n",
    "x = Conv2D(filters=128, kernel_size=(3,3), activation='relu')(x)\n",
    "x = MaxPool2D(pool_size=(2, 2))(x)\n",
    "x = Flatten()(x)\n",
    "x = Dense(256, activation='relu')(x)\n",
    "x = Dropout(rate=0.4)(x)\n",
    "outputs = Dense(10, activation='softmax')(x)\n",
    "net = Model(inputs=inputs, outputs=outputs)"
   ]
  },
  {
   "cell_type": "code",
   "execution_count": null,
   "id": "3ce6481c",
   "metadata": {
    "jupyter": {
     "source_hidden": true
    },
    "papermill": {
     "duration": 0.012152,
     "end_time": "2024-02-19T16:42:32.488163",
     "exception": false,
     "start_time": "2024-02-19T16:42:32.476011",
     "status": "completed"
    },
    "tags": []
   },
   "outputs": [],
   "source": []
  },
  {
   "cell_type": "markdown",
   "id": "c8cadd06",
   "metadata": {
    "papermill": {
     "duration": 0.012195,
     "end_time": "2024-02-19T16:42:32.512687",
     "exception": false,
     "start_time": "2024-02-19T16:42:32.500492",
     "status": "completed"
    },
    "tags": []
   },
   "source": [
    "Training"
   ]
  },
  {
   "cell_type": "code",
   "execution_count": 8,
   "id": "fbfaf59e",
   "metadata": {
    "execution": {
     "iopub.execute_input": "2024-02-19T16:42:32.539442Z",
     "iopub.status.busy": "2024-02-19T16:42:32.538876Z",
     "iopub.status.idle": "2024-02-19T16:45:48.780221Z",
     "shell.execute_reply": "2024-02-19T16:45:48.779301Z"
    },
    "papermill": {
     "duration": 196.257097,
     "end_time": "2024-02-19T16:45:48.782542",
     "exception": false,
     "start_time": "2024-02-19T16:42:32.525445",
     "status": "completed"
    },
    "tags": []
   },
   "outputs": [
    {
     "name": "stdout",
     "output_type": "stream",
     "text": [
      "Epoch 1/20\n"
     ]
    },
    {
     "name": "stderr",
     "output_type": "stream",
     "text": [
      "WARNING: All log messages before absl::InitializeLog() is called are written to STDERR\n",
      "I0000 00:00:1708360959.133756      77 device_compiler.h:186] Compiled cluster using XLA!  This line is logged at most once for the lifetime of the process.\n"
     ]
    },
    {
     "name": "stdout",
     "output_type": "stream",
     "text": [
      "1055/1055 [==============================] - 17s 10ms/step - loss: 0.1250 - val_loss: 0.0482\n",
      "Epoch 2/20\n",
      "1055/1055 [==============================] - 10s 9ms/step - loss: 0.0494 - val_loss: 0.0539\n",
      "Epoch 3/20\n",
      "1055/1055 [==============================] - 9s 9ms/step - loss: 0.0420 - val_loss: 0.0315\n",
      "Epoch 4/20\n",
      "1055/1055 [==============================] - 9s 9ms/step - loss: 0.0364 - val_loss: 0.0404\n",
      "Epoch 5/20\n",
      "1055/1055 [==============================] - 9s 9ms/step - loss: 0.0340 - val_loss: 0.0497\n",
      "Epoch 6/20\n",
      "1055/1055 [==============================] - 9s 9ms/step - loss: 0.0318 - val_loss: 0.0282\n",
      "Epoch 7/20\n",
      "1055/1055 [==============================] - 9s 9ms/step - loss: 0.0311 - val_loss: 0.0371\n",
      "Epoch 8/20\n",
      "1055/1055 [==============================] - 9s 9ms/step - loss: 0.0284 - val_loss: 0.0267\n",
      "Epoch 9/20\n",
      "1055/1055 [==============================] - 9s 9ms/step - loss: 0.0275 - val_loss: 0.0265\n",
      "Epoch 10/20\n",
      "1055/1055 [==============================] - 10s 9ms/step - loss: 0.0276 - val_loss: 0.0222\n",
      "Epoch 11/20\n",
      "1055/1055 [==============================] - 9s 9ms/step - loss: 0.0252 - val_loss: 0.0286\n",
      "Epoch 12/20\n",
      "1055/1055 [==============================] - 9s 9ms/step - loss: 0.0253 - val_loss: 0.0242\n",
      "Epoch 13/20\n",
      "1055/1055 [==============================] - 9s 9ms/step - loss: 0.0249 - val_loss: 0.0354\n",
      "Epoch 14/20\n",
      "1055/1055 [==============================] - 9s 9ms/step - loss: 0.0241 - val_loss: 0.0244\n",
      "Epoch 15/20\n",
      "1055/1055 [==============================] - 9s 9ms/step - loss: 0.0231 - val_loss: 0.0263\n",
      "Epoch 16/20\n",
      "1055/1055 [==============================] - 9s 9ms/step - loss: 0.0227 - val_loss: 0.0246\n",
      "Epoch 17/20\n",
      "1055/1055 [==============================] - 9s 9ms/step - loss: 0.0216 - val_loss: 0.0228\n",
      "Epoch 18/20\n",
      "1055/1055 [==============================] - 9s 9ms/step - loss: 0.0218 - val_loss: 0.0307\n",
      "Epoch 19/20\n",
      "1055/1055 [==============================] - 9s 9ms/step - loss: 0.0209 - val_loss: 0.0226\n",
      "Epoch 20/20\n",
      "1055/1055 [==============================] - 9s 9ms/step - loss: 0.0202 - val_loss: 0.0247\n"
     ]
    }
   ],
   "source": [
    "net.compile(loss='categorical_crossentropy', optimizer='adam')\n",
    "history_net = net.fit(input_train, target_train, validation_split=0.1, epochs=20, batch_size=256)"
   ]
  },
  {
   "cell_type": "markdown",
   "id": "611d4cf1",
   "metadata": {
    "papermill": {
     "duration": 0.280861,
     "end_time": "2024-02-19T16:45:49.350086",
     "exception": false,
     "start_time": "2024-02-19T16:45:49.069225",
     "status": "completed"
    },
    "tags": []
   },
   "source": [
    "Model summary"
   ]
  },
  {
   "cell_type": "code",
   "execution_count": 9,
   "id": "27fdaf1d",
   "metadata": {
    "execution": {
     "iopub.execute_input": "2024-02-19T16:45:49.914827Z",
     "iopub.status.busy": "2024-02-19T16:45:49.914263Z",
     "iopub.status.idle": "2024-02-19T16:45:49.950589Z",
     "shell.execute_reply": "2024-02-19T16:45:49.949469Z"
    },
    "papermill": {
     "duration": 0.334167,
     "end_time": "2024-02-19T16:45:49.965389",
     "exception": false,
     "start_time": "2024-02-19T16:45:49.631222",
     "status": "completed"
    },
    "tags": []
   },
   "outputs": [
    {
     "name": "stdout",
     "output_type": "stream",
     "text": [
      "Model: \"model\"\n",
      "_________________________________________________________________\n",
      " Layer (type)                Output Shape              Param #   \n",
      "=================================================================\n",
      " input_1 (InputLayer)        [(None, 28, 28, 1)]       0         \n",
      "                                                                 \n",
      " sequential (Sequential)     (None, 28, 28, 1)         0         \n",
      "                                                                 \n",
      " conv2d (Conv2D)             (None, 24, 24, 64)        1664      \n",
      "                                                                 \n",
      " max_pooling2d (MaxPooling2  (None, 12, 12, 64)        0         \n",
      " D)                                                              \n",
      "                                                                 \n",
      " conv2d_1 (Conv2D)           (None, 8, 8, 64)          102464    \n",
      "                                                                 \n",
      " max_pooling2d_1 (MaxPoolin  (None, 4, 4, 64)          0         \n",
      " g2D)                                                            \n",
      "                                                                 \n",
      " batch_normalization (Batch  (None, 4, 4, 64)          256       \n",
      " Normalization)                                                  \n",
      "                                                                 \n",
      " conv2d_2 (Conv2D)           (None, 2, 2, 128)         73856     \n",
      "                                                                 \n",
      " max_pooling2d_2 (MaxPoolin  (None, 1, 1, 128)         0         \n",
      " g2D)                                                            \n",
      "                                                                 \n",
      " flatten (Flatten)           (None, 128)               0         \n",
      "                                                                 \n",
      " dense (Dense)               (None, 256)               33024     \n",
      "                                                                 \n",
      " dropout (Dropout)           (None, 256)               0         \n",
      "                                                                 \n",
      " dense_1 (Dense)             (None, 10)                2570      \n",
      "                                                                 \n",
      "=================================================================\n",
      "Total params: 213834 (835.29 KB)\n",
      "Trainable params: 213706 (834.79 KB)\n",
      "Non-trainable params: 128 (512.00 Byte)\n",
      "_________________________________________________________________\n"
     ]
    }
   ],
   "source": [
    "net.summary()"
   ]
  },
  {
   "cell_type": "markdown",
   "id": "220ba7ed",
   "metadata": {
    "papermill": {
     "duration": 0.285106,
     "end_time": "2024-02-19T16:45:50.536854",
     "exception": false,
     "start_time": "2024-02-19T16:45:50.251748",
     "status": "completed"
    },
    "tags": []
   },
   "source": [
    "Plotting"
   ]
  },
  {
   "cell_type": "code",
   "execution_count": 10,
   "id": "3a90f44f",
   "metadata": {
    "execution": {
     "iopub.execute_input": "2024-02-19T16:45:51.156367Z",
     "iopub.status.busy": "2024-02-19T16:45:51.156011Z",
     "iopub.status.idle": "2024-02-19T16:45:51.412975Z",
     "shell.execute_reply": "2024-02-19T16:45:51.412069Z"
    },
    "papermill": {
     "duration": 0.548428,
     "end_time": "2024-02-19T16:45:51.414996",
     "exception": false,
     "start_time": "2024-02-19T16:45:50.866568",
     "status": "completed"
    },
    "tags": []
   },
   "outputs": [
    {
     "data": {
      "text/plain": [
       "<matplotlib.legend.Legend at 0x7ec7224afaf0>"
      ]
     },
     "execution_count": 10,
     "metadata": {},
     "output_type": "execute_result"
    },
    {
     "data": {
      "image/png": "[encoded data removed]",
      "text/plain": [
       "<Figure size 640x480 with 1 Axes>"
      ]
     },
     "metadata": {},
     "output_type": "display_data"
    }
   ],
   "source": [
    "plt.figure()\n",
    "plt.plot(history_net.history['loss'], label='training loss')\n",
    "plt.plot(history_net.history['val_loss'], label='validation loss')\n",
    "plt.xlabel('epochs')\n",
    "plt.ylabel('loss')\n",
    "plt.legend()"
   ]
  },
  {
   "cell_type": "markdown",
   "id": "8f21a349",
   "metadata": {
    "papermill": {
     "duration": 0.27918,
     "end_time": "2024-02-19T16:45:51.976053",
     "exception": false,
     "start_time": "2024-02-19T16:45:51.696873",
     "status": "completed"
    },
    "tags": []
   },
   "source": [
    "Testing"
   ]
  },
  {
   "cell_type": "code",
   "execution_count": 11,
   "id": "dda831ef",
   "metadata": {
    "execution": {
     "iopub.execute_input": "2024-02-19T16:45:52.545522Z",
     "iopub.status.busy": "2024-02-19T16:45:52.544729Z",
     "iopub.status.idle": "2024-02-19T16:46:01.118039Z",
     "shell.execute_reply": "2024-02-19T16:46:01.117128Z"
    },
    "papermill": {
     "duration": 8.861148,
     "end_time": "2024-02-19T16:46:01.120107",
     "exception": false,
     "start_time": "2024-02-19T16:45:52.258959",
     "status": "completed"
    },
    "tags": []
   },
   "outputs": [
    {
     "name": "stdout",
     "output_type": "stream",
     "text": [
      "313/313 [==============================] - 1s 2ms/step\n",
      "Percentage misclassified =  0.68\n",
      "Perecentage correctly classified =  99.32\n",
      "1250/1250 [==============================] - 2s 2ms/step\n",
      "Percentage misclassified =  0.4575\n",
      "Perecentage correctly classified =  99.5425\n",
      "1563/1563 [==============================] - 3s 2ms/step\n",
      "Percentage misclassified =  0.502\n",
      "Perecentage correctly classified =  99.498\n"
     ]
    }
   ],
   "source": [
    "#MNIST\n",
    "outputs_net=net.predict(x_test2)\n",
    "labels_predicted_net = np.argmax(outputs_net, axis=1)\n",
    "misclassified_net=sum(labels_predicted_net!=labels_test)\n",
    "classified_net = sum(labels_predicted_net == labels_test)\n",
    "print('Percentage misclassified = ',100*misclassified_net/labels_test.size)\n",
    "print('Perecentage correctly classified = ', 100*classified_net/labels_test.size)\n",
    "\n",
    "\n",
    "#EMNIST\n",
    "#CNN percentage misclassified = \n",
    "outputs1_net = net.predict(em_test2)\n",
    "labels_predicted1_net = np.argmax(outputs1_net, axis=1)\n",
    "misclassified1_net = sum(labels_predicted1_net!= em_test_labels)\n",
    "classified1_net = sum(labels_predicted1_net == em_test_labels)\n",
    "print('Percentage misclassified = ',100*misclassified1_net/em_test_labels.size)\n",
    "print('Perecentage correctly classified = ', 100*classified1_net/em_test_labels.size)\n",
    "\n",
    "\n",
    "\n",
    "#Merged\n",
    "outputs2_net=net.predict(input_test)\n",
    "labels_predicted2_net = np.argmax(outputs2_net, axis=1)\n",
    "misclassified2_net=sum(labels_predicted2_net!=target_test)\n",
    "classified2_net = sum(labels_predicted2_net == target_test)\n",
    "print('Percentage misclassified = ',100*misclassified2_net/target_test.size)\n",
    "print('Perecentage correctly classified = ', 100*classified2_net/target_test.size)\n",
    "\n"
   ]
  },
  {
   "cell_type": "code",
   "execution_count": 12,
   "id": "7c5b79b7",
   "metadata": {
    "execution": {
     "iopub.execute_input": "2024-02-19T16:46:01.706654Z",
     "iopub.status.busy": "2024-02-19T16:46:01.706304Z",
     "iopub.status.idle": "2024-02-19T16:46:01.762493Z",
     "shell.execute_reply": "2024-02-19T16:46:01.761541Z"
    },
    "papermill": {
     "duration": 0.352637,
     "end_time": "2024-02-19T16:46:01.764696",
     "exception": false,
     "start_time": "2024-02-19T16:46:01.412059",
     "status": "completed"
    },
    "tags": []
   },
   "outputs": [
    {
     "name": "stderr",
     "output_type": "stream",
     "text": [
      "/opt/conda/lib/python3.10/site-packages/keras/src/engine/training.py:3103: UserWarning: You are saving your model as an HDF5 file via `model.save()`. This file format is considered legacy. We recommend using instead the native Keras format, e.g. `model.save('my_model.keras')`.\n",
      "  saving_api.save_model(\n"
     ]
    }
   ],
   "source": [
    "net.save(\"network_for_mnist_cnn_v9.h5\")"
   ]
  }
 ],
 "metadata": {
  "kaggle": {
   "accelerator": "nvidiaTeslaT4",
   "dataSources": [],
   "dockerImageVersionId": 30646,
   "isGpuEnabled": true,
   "isInternetEnabled": true,
   "language": "python",
   "sourceType": "notebook"
  },
  "kernelspec": {
   "display_name": "Python 3",
   "language": "python",
   "name": "python3"
  },
  "language_info": {
   "codemirror_mode": {
    "name": "ipython",
    "version": 3
   },
   "file_extension": ".py",
   "mimetype": "text/x-python",
   "name": "python",
   "nbconvert_exporter": "python",
   "pygments_lexer": "ipython3",
   "version": "3.10.13"
  },
  "papermill": {
   "default_parameters": {},
   "duration": 257.41386,
   "end_time": "2024-02-19T16:46:05.196713",
   "environment_variables": {},
   "exception": null,
   "input_path": "__notebook__.ipynb",
   "output_path": "__notebook__.ipynb",
   "parameters": {},
   "start_time": "2024-02-19T16:41:47.782853",
   "version": "2.5.0"
  }
 },
 "nbformat": 4,
 "nbformat_minor": 5
}
